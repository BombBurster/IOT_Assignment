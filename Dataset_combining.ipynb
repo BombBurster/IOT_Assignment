{
 "cells": [
  {
   "cell_type": "code",
   "execution_count": null,
   "metadata": {},
   "outputs": [],
   "source": [
    "import pandas as pd\n",
    "import glob\n",
    "import IPython.core.display\n",
    "\n",
    "PATH_acc_mobile = \"./raw/phone/accel/\"\n",
    "PATH_gyro_mobile = \"./raw/phone/gyro/\"\n",
    "PATH_acc_watch = \"./raw/watch/accel/\"\n",
    "PATH_gyro_watch = \"./raw/watch/gyro/\"\n",
    "PATH_acc_luca = \"./merging_self_generated_data/LucaAcelerometer/\"\n",
    "PATH_gyro_luca = \"./merging_self_generated_data/LucaGyro/\"\n",
    "PATH_acc_caroline = \"./merging_self_generated_data/CarolineAcelerometer/\"\n",
    "PATH_gyro_caroline = \"./merging_self_generated_data/CarolineGyro/\"\n",
    "column_names_acc_mobile = ['user-id','activity', 'timestamp', 'x-axis_acc_mobile', 'y-axis_acc_mobile', 'z-axis_acc_mobile']\n",
    "column_names_gyro_mobile = ['user-id','activity', 'timestamp', 'x-axis_gyro_mobile', 'y-axis_gyro_mobile', 'z-axis_gyro_mobile']\n",
    "column_names_acc_watch = ['user-id','activity', 'timestamp', 'x-axis_acc_watch', 'y-axis_acc_watch', 'z-axis_acc_watch']\n",
    "column_names_gyro_watch = ['user-id','activity', 'timestamp', 'x-axis_gyro_watch', 'y-axis_gyro_watch', 'z-axis_gyro_watch']\n",
    "column_names_acc_luca = ['user-id','activity', 'time', 'x-axis_acc_luca', 'y-axis_acc_luca', 'z-axis_acc_luca', 'timestamp']\n",
    "column_names_gyro_luca = ['user-id','activity', 'time', 'x-axis_gyro_luca', 'y-axis_gyro_luca', 'z-axis_gyro_luca', 'timestamp']\n",
    "column_names_acc_caroline = ['user-id','activity', 'time', 'x-axis_acc_caroline', 'y-axis_acc_caroline', 'z-axis_acc_caroline', 'timestamp']\n",
    "column_names_gyro_caroline = ['user-id','activity', 'time', 'x-axis_gyro_caroline', 'y-axis_gyro_caroline', 'z-axis_gyro_caroline', 'timestamp']\n",
    "\n",
    "def loadfromFilePath(path, column_names, own):\n",
    "    files = glob.glob(path)\n",
    "    dataset = pd.DataFrame(columns = column_names)\n",
    "    for file in files:\n",
    "        if own == 0:\n",
    "            df = pd.read_csv(file, header=None, names=column_names)\n",
    "        else:\n",
    "            print(file)\n",
    "            df = pd.read_csv(file, header=0, names=column_names)\n",
    "            print(df)\n",
    "        dataset = dataset.append(df)\n",
    "    if own == 0:\n",
    "        dataset[column_names[5]].replace(regex=True, inplace=True, to_replace=r';', value=r'')\n",
    "        dataset[column_names[5]] = dataset[column_names[5]].astype(float)\n",
    "    dataset.dropna(axis=0, how='any', inplace=True)\n",
    "    return dataset\n",
    "        \n",
    "acc_mobile = loadfromFilePath(PATH_acc_mobile+\"*.txt\", column_names_acc_mobile,0)\n",
    "gyro_mobile = loadfromFilePath(PATH_gyro_mobile+\"*.txt\", column_names_gyro_mobile,0)\n",
    "acc_watch = loadfromFilePath(PATH_acc_watch+\"*.txt\", column_names_acc_watch,0)\n",
    "gyro_watch = loadfromFilePath(PATH_gyro_watch+\"*.txt\", column_names_gyro_watch,0)\n",
    "acc_luca = loadfromFilePath(PATH_acc_luca+\"*.csv\", column_names_acc_luca,1)\n",
    "# gyro_luca = loadfromFilePath(PATH_gyro_luca+\"*.csv\", column_names_gyro_luca,1)\n",
    "acc_caroline = loadfromFilePath(PATH_acc_caroline+\"*.csv\", column_names_acc_caroline,1)\n",
    "gyro_caroline = loadfromFilePath(PATH_gyro_caroline+\"*.csv\", column_names_gyro_caroline,1)\n",
    "acc_luca.drop(columns='time')\n",
    "# gyro_luca.drop(columns='time') #gyro_walk3\n",
    "acc_caroline.drop(columns='time')\n",
    "gyro_caroline.drop(columns='time')\n",
    "# print(acc_mobile)\n",
    "# print(gyro_mobile)\n",
    "# print(acc_watch)\n",
    "# print(gyro_watch)\n",
    "print(acc_luca)\n",
    "print(gyro_luca)"
   ]
  },
  {
   "cell_type": "code",
   "execution_count": 4,
   "metadata": {},
   "outputs": [
    {
     "name": "stdout",
     "output_type": "stream",
     "text": [
      "Empty DataFrame\n",
      "Columns: [time_x, x-axis_acc_luca, y-axis_acc_luca, z-axis_acc_luca, user-id, activity, time_y, x-axis_gyro_luca, y-axis_gyro_luca, z-axis_gyro_luca, timestamp]\n",
      "Index: []\n"
     ]
    }
   ],
   "source": [
    "dataset_merge = pd.merge(acc_mobile, gyro_mobile, on=['user-id', 'activity', 'timestamp'])\n",
    "dataset_merge_2 = pd.merge(acc_watch, gyro_watch, on=['user-id', 'activity', 'timestamp'])\n",
    "dataset_merge_3 = pd.merge(acc_luca, gyro_luca, on=['user-id', 'activity', 'timestamp'])\n",
    "dataset_merge_4 = pd.merge(acc_caroline, gyro_caroline, on=['user-id', 'activity', 'timestamp'])\n",
    "dataset_merge_3 = pd.pd.concat([dataset_merge_3, dataset_merge_4], axis=0)\n",
    "print(dataset_merge_3)\n",
    "# print(dataset_merge_2)"
   ]
  },
  {
   "cell_type": "code",
   "execution_count": null,
   "metadata": {},
   "outputs": [],
   "source": [
    "# showing that merging the watch data and the phone data is not compatible - therefore train seperately\n",
    "merge_1 = pd.merge(acc_mobile, acc_watch, on=['user-id', 'activity', 'timestamp'])\n",
    "print(merge_1)"
   ]
  },
  {
   "cell_type": "code",
   "execution_count": null,
   "metadata": {},
   "outputs": [],
   "source": [
    "dataset_merge.activity = pd.Categorical(dataset_merge.activity)\n",
    "dataset_merge_2.activity = pd.Categorical(dataset_merge_2.activity)\n",
    "dataset_merge_3.activity = pd.Categorical(dataset_merge_3.activity)\n",
    "dataset_merge_3['user-id'] = pd.Categorical(dataset_merge_3['user-id'])\n",
    "dataset_merge.activity = dataset_merge.activity.cat.codes\n",
    "dataset_merge_3.activity = dataset_merge_3.activity.cat.codes\n",
    "dataset_merge_3['user-id'] = dataset_merge_3['user-id'].cat.codes\n",
    "print(dataset_merge_3)"
   ]
  },
  {
   "cell_type": "code",
   "execution_count": null,
   "metadata": {},
   "outputs": [],
   "source": [
    "dataset_merge.to_csv('phone.csv', index=False)\n",
    "dataset_merge_2.to_csv('watch.csv', index=False)\n",
    "dataset_merge_3.to_csv('our_own.csv', index=False)"
   ]
  },
  {
   "cell_type": "code",
   "execution_count": null,
   "metadata": {},
   "outputs": [],
   "source": []
  }
 ],
 "metadata": {
  "kernelspec": {
   "display_name": "Python 3",
   "language": "python",
   "name": "python3"
  },
  "language_info": {
   "codemirror_mode": {
    "name": "ipython",
    "version": 3
   },
   "file_extension": ".py",
   "mimetype": "text/x-python",
   "name": "python",
   "nbconvert_exporter": "python",
   "pygments_lexer": "ipython3",
   "version": "3.7.5"
  }
 },
 "nbformat": 4,
 "nbformat_minor": 2
}
