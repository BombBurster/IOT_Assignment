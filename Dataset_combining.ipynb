{
 "cells": [
  {
   "cell_type": "code",
   "execution_count": 1,
   "metadata": {},
   "outputs": [
    {
     "name": "stdout",
     "output_type": "stream",
     "text": [
      "     user-id activity  x-axis_acc  y-axis_acc  z-axis_acc   timestamp\n",
      "0       Luca        I   -0.393158   -0.223801   -0.863297  1588693022\n",
      "1       Luca        I   -0.346466   -0.184921   -0.893005  1588693022\n",
      "2       Luca        I   -0.297104   -0.189575   -0.922775  1588693022\n",
      "3       Luca        I   -0.259338   -0.214752   -0.931519  1588693022\n",
      "4       Luca        I   -0.267090   -0.240677   -0.927170  1588693022\n",
      "...      ...      ...         ...         ...         ...         ...\n",
      "3357    Luca        H   -0.373779   -0.752258   -0.523163  1588692116\n",
      "3358    Luca        H   -0.370010   -0.757217   -0.516068  1588692116\n",
      "3359    Luca        H   -0.378647   -0.763062   -0.516266  1588692116\n",
      "3360    Luca        H   -0.398727   -0.761032   -0.507004  1588692116\n",
      "3361    Luca        H   -0.455124   -0.758011   -0.476959  1588692116\n",
      "\n",
      "[57546 rows x 6 columns]\n",
      "     user-id activity  x-axis_gyro  y-axis_gyro  z-axis_gyro   timestamp\n",
      "0       Luca        C    -0.051644     0.195164     0.018732  1588692563\n",
      "1       Luca        C    -0.037301     0.106960     0.038574  1588692563\n",
      "2       Luca        C    -0.017501    -0.029561     0.023118  1588692563\n",
      "3       Luca        C    -0.009404    -0.168468    -0.021754  1588692563\n",
      "4       Luca        C    -0.025984    -0.222769    -0.064291  1588692563\n",
      "...      ...      ...          ...          ...          ...         ...\n",
      "3051    Luca        A     0.007228     0.033591     0.066108  1588691546\n",
      "3052    Luca        A    -0.008253     0.026243     0.054323  1588691546\n",
      "3053    Luca        A    -0.015186     0.050491     0.042694  1588691546\n",
      "3054    Luca        A    -0.031470     0.060786     0.059079  1588691546\n",
      "3055    Luca        A    -0.048376     0.047744     0.073267  1588691546\n",
      "\n",
      "[57540 rows x 6 columns]\n"
     ]
    }
   ],
   "source": [
    "import pandas as pd\n",
    "import glob\n",
    "import IPython.core.display\n",
    "\n",
    "PATH_acc_mobile = \"./raw/phone/accel/\"\n",
    "PATH_gyro_mobile = \"./raw/phone/gyro/\"\n",
    "PATH_acc_watch = \"./raw/watch/accel/\"\n",
    "PATH_gyro_watch = \"./raw/watch/gyro/\"\n",
    "PATH_acc_luca = \"./merging_self_generated_data/LucaAcelerometer/\"\n",
    "PATH_gyro_luca = \"./merging_self_generated_data/LucaGyro/\"\n",
    "PATH_acc_caroline = \"./merging_self_generated_data/CarolineAcelerometer/\"\n",
    "PATH_gyro_caroline = \"./merging_self_generated_data/CarolineGyro/\"\n",
    "column_names_acc_mobile = ['user-id','activity', 'timestamp', 'x-axis_acc_mobile', 'y-axis_acc_mobile', 'z-axis_acc_mobile']\n",
    "column_names_gyro_mobile = ['user-id','activity', 'timestamp', 'x-axis_gyro_mobile', 'y-axis_gyro_mobile', 'z-axis_gyro_mobile']\n",
    "column_names_acc_watch = ['user-id','activity', 'timestamp', 'x-axis_acc_watch', 'y-axis_acc_watch', 'z-axis_acc_watch']\n",
    "column_names_gyro_watch = ['user-id','activity', 'timestamp', 'x-axis_gyro_watch', 'y-axis_gyro_watch', 'z-axis_gyro_watch']\n",
    "column_names_acc_luca = ['user-id','activity', 'time', 'x-axis_acc', 'y-axis_acc', 'z-axis_acc', 'timestamp']\n",
    "column_names_gyro_luca = ['user-id','activity', 'time', 'x-axis_gyro', 'y-axis_gyro', 'z-axis_gyro', 'timestamp']\n",
    "column_names_acc_caroline = ['user-id','activity', 'time', 'x-axis_acc', 'y-axis_acc', 'z-axis_acc', 'timestamp']\n",
    "column_names_gyro_caroline = ['user-id','activity', 'time', 'x-axis_gyro', 'y-axis_gyro', 'z-axis_gyro', 'timestamp']\n",
    "\n",
    "def loadfromFilePath(path, column_names, own):\n",
    "    files = glob.glob(path)\n",
    "    dataset = pd.DataFrame(columns = column_names)\n",
    "    for file in files:\n",
    "        if own == 0:\n",
    "            df = pd.read_csv(file, header=None, names=column_names)\n",
    "        else:\n",
    "#             print(file)\n",
    "            df = pd.read_csv(file, header=0, names=column_names)\n",
    "#             print(df)\n",
    "        dataset = dataset.append(df)\n",
    "    if own == 0:\n",
    "        dataset[column_names[5]].replace(regex=True, inplace=True, to_replace=r';', value=r'')\n",
    "        dataset[column_names[5]] = dataset[column_names[5]].astype(float)\n",
    "    dataset.dropna(axis=0, how='any', inplace=True)\n",
    "    return dataset\n",
    "        \n",
    "acc_mobile = loadfromFilePath(PATH_acc_mobile+\"*.txt\", column_names_acc_mobile,0)\n",
    "gyro_mobile = loadfromFilePath(PATH_gyro_mobile+\"*.txt\", column_names_gyro_mobile,0)\n",
    "acc_watch = loadfromFilePath(PATH_acc_watch+\"*.txt\", column_names_acc_watch,0)\n",
    "gyro_watch = loadfromFilePath(PATH_gyro_watch+\"*.txt\", column_names_gyro_watch,0)\n",
    "acc_luca = loadfromFilePath(PATH_acc_luca+\"*.csv\", column_names_acc_luca,1)\n",
    "gyro_luca = loadfromFilePath(PATH_gyro_luca+\"*.csv\", column_names_gyro_luca,1)\n",
    "acc_caroline = loadfromFilePath(PATH_acc_caroline+\"*.csv\", column_names_acc_caroline,1)\n",
    "gyro_caroline = loadfromFilePath(PATH_gyro_caroline+\"*.csv\", column_names_gyro_caroline,1)\n",
    "acc_luca = acc_luca.drop(columns=['time'])\n",
    "gyro_luca = gyro_luca.drop(columns=['time'])\n",
    "acc_caroline = acc_caroline.drop(columns=['time'])\n",
    "gyro_caroline = gyro_caroline.drop(columns=['time'])\n",
    "# print(acc_mobile)\n",
    "# print(gyro_mobile)\n",
    "# print(acc_watch)\n",
    "# print(gyro_watch)\n",
    "print(acc_luca)\n",
    "print(gyro_luca)"
   ]
  },
  {
   "cell_type": "code",
   "execution_count": 2,
   "metadata": {},
   "outputs": [
    {
     "name": "stdout",
     "output_type": "stream",
     "text": [
      "          user-id activity  x-axis_acc  y-axis_acc  z-axis_acc   timestamp  \\\n",
      "0            Luca        I   -0.393158   -0.223801   -0.863297  1588693022   \n",
      "1            Luca        I   -0.393158   -0.223801   -0.863297  1588693022   \n",
      "2            Luca        I   -0.393158   -0.223801   -0.863297  1588693022   \n",
      "3            Luca        I   -0.393158   -0.223801   -0.863297  1588693022   \n",
      "4            Luca        I   -0.393158   -0.223801   -0.863297  1588693022   \n",
      "...           ...      ...         ...         ...         ...         ...   \n",
      "7448077  Caroline        J   -0.587265   -0.459900   -0.675446  1588710670   \n",
      "7448078  Caroline        J   -0.587265   -0.459900   -0.675446  1588710670   \n",
      "7448079  Caroline        J   -0.590225   -0.458588   -0.671097  1588710670   \n",
      "7448080  Caroline        J   -0.590225   -0.458588   -0.671097  1588710670   \n",
      "7448081  Caroline        J   -0.590225   -0.458588   -0.671097  1588710670   \n",
      "\n",
      "         x-axis_gyro  y-axis_gyro  z-axis_gyro  \n",
      "0          -0.061486     0.220032    -0.008546  \n",
      "1          -0.047733     0.153597     0.007609  \n",
      "2          -0.034829     0.037579    -0.020337  \n",
      "3          -0.055877    -0.096973    -0.075925  \n",
      "4          -0.084868    -0.192703    -0.103776  \n",
      "...              ...          ...          ...  \n",
      "7448077     0.059153    -0.062595    -0.009210  \n",
      "7448078    -0.036383     0.006225    -0.021328  \n",
      "7448079     0.066352    -0.067556    -0.011304  \n",
      "7448080     0.059153    -0.062595    -0.009210  \n",
      "7448081    -0.036383     0.006225    -0.021328  \n",
      "\n",
      "[13144574 rows x 9 columns]\n"
     ]
    }
   ],
   "source": [
    "dataset_merge = pd.merge(acc_mobile, gyro_mobile, on=['user-id', 'activity', 'timestamp'])\n",
    "dataset_merge_2 = pd.merge(acc_watch, gyro_watch, on=['user-id', 'activity', 'timestamp'])\n",
    "dataset_merge_3 = pd.merge(acc_luca, gyro_luca, on=['user-id', 'activity', 'timestamp'])\n",
    "dataset_merge_4 = pd.merge(acc_caroline, gyro_caroline, on=['user-id', 'activity', 'timestamp'])\n",
    "dataset_merge_3 = pd.concat([dataset_merge_3, dataset_merge_4], axis=0)\n",
    "print(dataset_merge_3)\n",
    "# print(dataset_merge_2)"
   ]
  },
  {
   "cell_type": "code",
   "execution_count": 3,
   "metadata": {},
   "outputs": [
    {
     "name": "stdout",
     "output_type": "stream",
     "text": [
      "Empty DataFrame\n",
      "Columns: [user-id, activity, timestamp, x-axis_acc_mobile, y-axis_acc_mobile, z-axis_acc_mobile, x-axis_acc_watch, y-axis_acc_watch, z-axis_acc_watch]\n",
      "Index: []\n"
     ]
    }
   ],
   "source": [
    "# showing that merging the watch data and the phone data is not compatible - therefore train seperately\n",
    "merge_1 = pd.merge(acc_mobile, acc_watch, on=['user-id', 'activity', 'timestamp'])\n",
    "print(merge_1)"
   ]
  },
  {
   "cell_type": "code",
   "execution_count": 4,
   "metadata": {},
   "outputs": [
    {
     "name": "stdout",
     "output_type": "stream",
     "text": [
      "         user-id  activity  x-axis_acc  y-axis_acc  z-axis_acc   timestamp  \\\n",
      "0              1         8   -0.393158   -0.223801   -0.863297  1588693022   \n",
      "1              1         8   -0.393158   -0.223801   -0.863297  1588693022   \n",
      "2              1         8   -0.393158   -0.223801   -0.863297  1588693022   \n",
      "3              1         8   -0.393158   -0.223801   -0.863297  1588693022   \n",
      "4              1         8   -0.393158   -0.223801   -0.863297  1588693022   \n",
      "...          ...       ...         ...         ...         ...         ...   \n",
      "7448077        0         9   -0.587265   -0.459900   -0.675446  1588710670   \n",
      "7448078        0         9   -0.587265   -0.459900   -0.675446  1588710670   \n",
      "7448079        0         9   -0.590225   -0.458588   -0.671097  1588710670   \n",
      "7448080        0         9   -0.590225   -0.458588   -0.671097  1588710670   \n",
      "7448081        0         9   -0.590225   -0.458588   -0.671097  1588710670   \n",
      "\n",
      "         x-axis_gyro  y-axis_gyro  z-axis_gyro  \n",
      "0          -0.061486     0.220032    -0.008546  \n",
      "1          -0.047733     0.153597     0.007609  \n",
      "2          -0.034829     0.037579    -0.020337  \n",
      "3          -0.055877    -0.096973    -0.075925  \n",
      "4          -0.084868    -0.192703    -0.103776  \n",
      "...              ...          ...          ...  \n",
      "7448077     0.059153    -0.062595    -0.009210  \n",
      "7448078    -0.036383     0.006225    -0.021328  \n",
      "7448079     0.066352    -0.067556    -0.011304  \n",
      "7448080     0.059153    -0.062595    -0.009210  \n",
      "7448081    -0.036383     0.006225    -0.021328  \n",
      "\n",
      "[13144574 rows x 9 columns]\n"
     ]
    }
   ],
   "source": [
    "dataset_merge.activity = pd.Categorical(dataset_merge.activity)\n",
    "dataset_merge_2.activity = pd.Categorical(dataset_merge_2.activity)\n",
    "dataset_merge_3.activity = pd.Categorical(dataset_merge_3.activity)\n",
    "dataset_merge_3['user-id'] = pd.Categorical(dataset_merge_3['user-id'])\n",
    "dataset_merge.activity = dataset_merge.activity.cat.codes\n",
    "dataset_merge_3.activity = dataset_merge_3.activity.cat.codes\n",
    "dataset_merge_3['user-id'] = dataset_merge_3['user-id'].cat.codes\n",
    "print(dataset_merge_3)"
   ]
  },
  {
   "cell_type": "code",
   "execution_count": 5,
   "metadata": {},
   "outputs": [],
   "source": [
    "dataset_merge.to_csv('phone.csv', index=False)\n",
    "dataset_merge_2.to_csv('watch.csv', index=False)\n",
    "dataset_merge_3.to_csv('our_own.csv', index=False)"
   ]
  },
  {
   "cell_type": "code",
   "execution_count": null,
   "metadata": {},
   "outputs": [],
   "source": []
  }
 ],
 "metadata": {
  "kernelspec": {
   "display_name": "Python 3",
   "language": "python",
   "name": "python3"
  },
  "language_info": {
   "codemirror_mode": {
    "name": "ipython",
    "version": 3
   },
   "file_extension": ".py",
   "mimetype": "text/x-python",
   "name": "python",
   "nbconvert_exporter": "python",
   "pygments_lexer": "ipython3",
   "version": "3.7.5"
  }
 },
 "nbformat": 4,
 "nbformat_minor": 2
}
